{
 "cells": [
  {
   "cell_type": "markdown",
   "metadata": {},
   "source": [
    "*Credits: materials from this notebook belong to YSDA [Practical DL](https://github.com/yandexdataschool/Practical_DL) course. Special thanks for making them available online.*"
   ]
  },
  {
   "cell_type": "markdown",
   "metadata": {},
   "source": [
    "# Lab assignment №1, part 1\n",
    "\n",
    "This lab assignment consists of several parts. You are supposed to make some transformations, train some models, estimate the quality of the models and explain your results.\n",
    "\n",
    "Several comments:\n",
    "* Don't hesitate to ask questions, it's a good practice.\n",
    "* No private/public sharing, please. The copied assignments will be graded with 0 points.\n",
    "* Blocks of this lab will be graded separately."
   ]
  },
  {
   "cell_type": "markdown",
   "metadata": {},
   "source": [
    "## Part 1. Matrix differentiation"
   ]
  },
  {
   "cell_type": "markdown",
   "metadata": {},
   "source": [
    "Since it easy to google every task please please please try to undestand what's going on. The \"just answer\" thing will be not counted, make sure to present derivation of your solution. It is absolutely OK if you found an answer on web then just exercise in $\\LaTeX$ copying it into here."
   ]
  },
  {
   "cell_type": "code",
   "execution_count": 2,
   "metadata": {},
   "outputs": [
    {
     "name": "stdout",
     "output_type": "stream",
     "text": [
      "/bin/bash: wget: command not found\r\n"
     ]
    }
   ],
   "source": [
    "# If on colab, uncomment the following lines\n",
    "\n",
    "! wget https://raw.githubusercontent.com/girafe-ai/ml-mipt/basic_f20/homeworks_basic/Lab1_ML_pipeline_and_SVM/grad.png"
   ]
  },
  {
   "cell_type": "markdown",
   "metadata": {},
   "source": [
    "Useful links: \n",
    "[1](http://www.machinelearning.ru/wiki/images/2/2a/Matrix-Gauss.pdf)\n",
    "[2](http://www.atmos.washington.edu/~dennis/MatrixCalculus.pdf)\n",
    "[3](http://research.microsoft.com/en-us/um/people/cmbishop/prml/index.htm)"
   ]
  },
  {
   "cell_type": "markdown",
   "metadata": {},
   "source": [
    "## ex. 1"
   ]
  },
  {
   "cell_type": "markdown",
   "metadata": {},
   "source": [
    "$$  \n",
    "y = x^Tx,  \\quad x \\in \\mathbb{R}^N \n",
    "$$"
   ]
  },
  {
   "cell_type": "markdown",
   "metadata": {},
   "source": [
    "$$\n",
    "\\frac{dy}{dx} = 2x\n",
    "$$ "
   ]
  },
  {
   "cell_type": "markdown",
   "metadata": {
    "collapsed": true,
    "jupyter": {
     "outputs_hidden": true
    }
   },
   "source": [
    "$$\n",
    "y = x^Tx = (x_1 x_2 \\cdots x_n) \n",
    "\\begin{pmatrix}\n",
    "  x_1\\\\\n",
    "  x_2\\\\\n",
    "  \\cdots\\\\\n",
    "  x_n\n",
    "\\end{pmatrix} = \\sum^{n}_{i = 1}x_i^2\n",
    "$$\n",
    "$\\forall k \\frac{\\partial\\sum^{n}_{i = 1}x_i^2}{\\partial x_k} = 2x_k$.\n",
    "Тогда $\\frac{dy}{dx} = 2x$"
   ]
  },
  {
   "cell_type": "markdown",
   "metadata": {},
   "source": [
    "## ex. 2"
   ]
  },
  {
   "cell_type": "markdown",
   "metadata": {},
   "source": [
    "$$ y = tr(AB) \\quad A,B \\in \\mathbb{R}^{N \\times N} $$ "
   ]
  },
  {
   "cell_type": "markdown",
   "metadata": {},
   "source": [
    "$$\n",
    "\\frac{dy}{dA} = B^T\n",
    "$$"
   ]
  },
  {
   "cell_type": "markdown",
   "metadata": {
    "collapsed": true,
    "jupyter": {
     "outputs_hidden": true
    }
   },
   "source": [
    "$$\n",
    "tr(AB) = a_{1\\cdot}b_{\\cdot1} + a_{2\\cdot}b_{\\cdot2} + \\cdots + a_{n\\cdot}b_{\\cdot n},\n",
    "$$\n",
    "где $a_{i\\cdot}$ - i-я строка матрицы A, $b_{\\cdot i}$ - i-й столбец матрицы B.\n",
    "$$\n",
    "\\frac{\\partial tr(AB)}{\\partial a_{ij}} = \n",
    "\\frac{\\partial a_{1\\cdot}b_{\\cdot1} + a_{2\\cdot}b_{\\cdot2} + \\cdots + a_{n\\cdot}b_{\\cdot n}}{\\partial a_{ij}} = \n",
    "\\frac{\\partial a_{i\\cdot} b_{\\cdot i}}{\\partial a_{ij}} = \n",
    "\\frac{\\partial \\sum_{k = 2}^n a_{ik} b_{ki}}{\\partial a_{ij}} = b_{ji}\n",
    "$$\n",
    "Значит, \n",
    "$$\n",
    "\\frac{dy}{dA} = B^T\n",
    "$$"
   ]
  },
  {
   "cell_type": "markdown",
   "metadata": {},
   "source": [
    "## ex. 3"
   ]
  },
  {
   "cell_type": "markdown",
   "metadata": {},
   "source": [
    "$$  \n",
    "y = x^TAc , \\quad A\\in \\mathbb{R}^{N \\times N}, x\\in \\mathbb{R}^{N}, c\\in \\mathbb{R}^{N} \n",
    "$$"
   ]
  },
  {
   "cell_type": "markdown",
   "metadata": {},
   "source": [
    "$$\n",
    "\\frac{dy}{dx} = Ac\n",
    "$$"
   ]
  },
  {
   "cell_type": "markdown",
   "metadata": {},
   "source": [
    "Пусть $b = Ac \\in \\mathbb{R}^{N}$\n",
    "$$\n",
    "\\frac{\\partial \\sum_{i = 1}^{n} b_i x_i}{\\partial x_j} = b_j\n",
    "$$\n",
    "Значит, \n",
    "$$\n",
    "\\frac{dy}{dx} = Ac\n",
    "$$"
   ]
  },
  {
   "cell_type": "markdown",
   "metadata": {},
   "source": [
    "$$\n",
    "\\frac{dy}{dA} = x c^T\n",
    "$$ "
   ]
  },
  {
   "cell_type": "markdown",
   "metadata": {},
   "source": [
    "$$\n",
    "Ac = c_1 a_{\\cdot 1} + c_2 a_{\\cdot 2} + \\cdots + c_n a_{\\cdot n}\n",
    "$$\n",
    "$$\n",
    "x^T (A c) = c_1(x_1 x_2 \\cdots x_n) \n",
    "\\begin{pmatrix}\n",
    "  a_{11}\\\\\n",
    "  a_{21}\\\\\n",
    "  \\cdots\\\\\n",
    "  a_{n1}\n",
    "\\end{pmatrix} +\n",
    "c_2(x_1 x_2 \\cdots x_n) \n",
    "\\begin{pmatrix}\n",
    "  a_{12}\\\\\n",
    "  a_{22}\\\\\n",
    "  \\cdots\\\\\n",
    "  a_{n2}\n",
    "\\end{pmatrix} + \\cdots\n",
    "c_n(x_1 x_2 \\cdots x_n) \n",
    "\\begin{pmatrix}\n",
    "  a_{1n}\\\\\n",
    "  a_{2n}\\\\\n",
    "  \\cdots\\\\\n",
    "  a_{nn}\n",
    "\\end{pmatrix}\n",
    "$$\n",
    "$$\n",
    "\\frac{\\partial x^T (A c)}{a_{ij}} = \\frac{\\partial\n",
    "c_j\\left((x_1 x_2 \\cdots x_n) \n",
    "\\begin{pmatrix}\n",
    "  a_{1j}\\\\\n",
    "  a_{2j}\\\\\n",
    "  \\cdots\\\\\n",
    "  a_{nj}\n",
    "\\end{pmatrix} \\right )\n",
    "}{a_{ij}} = c_j x_i\n",
    "$$\n",
    "Тогда\n",
    "$$\n",
    "\\frac{dy}{dA} = x c^T\n",
    "$$ "
   ]
  },
  {
   "cell_type": "markdown",
   "metadata": {},
   "source": [
    "Hint for the latter (one of the ways): use *ex. 2* result and the fact \n",
    "$$\n",
    "tr(ABC) = tr (CAB)\n",
    "$$"
   ]
  },
  {
   "cell_type": "code",
   "execution_count": null,
   "metadata": {
    "jupyter": {
     "outputs_hidden": true
    }
   },
   "outputs": [],
   "source": []
  },
  {
   "cell_type": "markdown",
   "metadata": {},
   "source": [
    "## ex. 4"
   ]
  },
  {
   "cell_type": "markdown",
   "metadata": {},
   "source": [
    "Classic matrix factorization example. Given matrix $X$ you need to find $A$, $S$ to approximate $X$. This can be done by simple gradient descent iteratively alternating $A$ and $S$ updates.\n",
    "$$\n",
    "J = || X - AS ||_F^2  , \\quad A\\in \\mathbb{R}^{N \\times R} , \\quad S\\in \\mathbb{R}^{R \\times M}\n",
    "$$\n",
    "$$\n",
    "\\frac{dJ}{dS} = ? \n",
    "$$\n",
    "\n",
    "You may use one of the following approaches:"
   ]
  },
  {
   "cell_type": "markdown",
   "metadata": {},
   "source": [
    "#### First approach\n",
    "Using ex.2 and the fact:\n",
    "$$\n",
    "|| X ||_F^2 = tr(XX^T) \n",
    "$$ \n",
    "it is easy to derive gradients (you can find it in one of the refs). "
   ]
  },
  {
   "cell_type": "markdown",
   "metadata": {},
   "source": [
    "$$\n",
    "J = || X - AS ||_F^2 = tr((X - AS)(X - AS)^T) = tr((X - AS)(X^T - S^T A^T)) = tr(XX^T - XS^TA^T - ASX^T + ASS^TA^T) = \\\\ \n",
    "tr(XX^T) - tr(XS^TA^T) - tr(ASX^T) + tr(ASS^TA^T)\n",
    "$$\n",
    "$$\n",
    "\\frac{\\partial J}{\\partial S} = \\frac{\\partial \\left(- tr(XS^TA^T) - tr(ASX^T) + tr(ASS^TA^T) \\right )}{\\partial S} = \n",
    "\\begin{Vmatrix}\n",
    "    B = AS \\\\\n",
    "    B^T = S^TA^T\n",
    "\\end{Vmatrix} = \n",
    "\\frac{\\partial \\left(- tr(XB^T) - tr(BX^T) + tr(BB^T) \\right )}{\\partial S} = \n",
    "\\begin{Vmatrix}\n",
    "    tr(AB) = tr(BA)\\\\\n",
    "    tr(BB^T) = B^TB\n",
    "\\end{Vmatrix} = \n",
    "-2\\frac{\\partial \\left(BX^T \\right)}{\\partial S} + \\frac{\\partial \\left( B^T B \\right)}{\\partial S} = \n",
    "\\begin{Vmatrix}\n",
    "    B = AS \\\\\n",
    "    B^T = S^TA^T\n",
    "\\end{Vmatrix} = \n",
    "-2\\frac{\\partial \\left(ASX^T \\right)}{\\partial S} + \\frac{\\partial \\left( S^TA^TAS \\right)}{\\partial S} = \n",
    "\\begin{Vmatrix}\n",
    "    \\frac{\\partial \\left(ASX^T \\right)}{\\partial S} = A^TX \\\\\n",
    "    \\frac{\\partial \\left( S^TA^TAS \\right)}{\\partial S} = 2A^TAS\n",
    "\\end{Vmatrix} = \n",
    "2A^T(AS - X)\n",
    "$$"
   ]
  },
  {
   "cell_type": "markdown",
   "metadata": {},
   "source": [
    "#### Second approach\n",
    "You can use *slightly different techniques* if they suits you. Take a look at this derivation:\n",
    "<img src=\"grad.png\">\n",
    "(excerpt from [Handbook of blind source separation, Jutten, page 517](https://books.google.ru/books?id=PTbj03bYH6kC&printsec=frontcover&dq=Handbook+of+Blind+Source+Separation&hl=en&sa=X&ved=0ahUKEwi-q_apiJDLAhULvXIKHVXJDWcQ6AEIHDAA#v=onepage&q=Handbook%20of%20Blind%20Source%20Separation&f=false), open for better picture)."
   ]
  },
  {
   "cell_type": "markdown",
   "metadata": {},
   "source": [
    "#### Third approach\n",
    "And finally we can use chain rule! \n",
    "let $ F = AS $ \n",
    "\n",
    "**Find**\n",
    "$$\n",
    "\\frac{dJ}{dF} =  \n",
    "$$ \n",
    "and \n",
    "$$\n",
    "\\frac{dF}{dS} =  \n",
    "$$ \n",
    "(the shape should be $ NM \\times RM )$.\n",
    "\n",
    "Now it is easy do get desired gradients:\n",
    "$$\n",
    "\\frac{dJ}{dS} =  \n",
    "$$ "
   ]
  },
  {
   "cell_type": "code",
   "execution_count": null,
   "metadata": {
    "jupyter": {
     "outputs_hidden": true
    }
   },
   "outputs": [],
   "source": []
  },
  {
   "cell_type": "code",
   "execution_count": null,
   "metadata": {},
   "outputs": [],
   "source": []
  }
 ],
 "metadata": {
  "kernelspec": {
   "display_name": "Python 3",
   "language": "python",
   "name": "python3"
  },
  "language_info": {
   "codemirror_mode": {
    "name": "ipython",
    "version": 3
   },
   "file_extension": ".py",
   "mimetype": "text/x-python",
   "name": "python",
   "nbconvert_exporter": "python",
   "pygments_lexer": "ipython3",
   "version": "3.8.8"
  }
 },
 "nbformat": 4,
 "nbformat_minor": 4
}
